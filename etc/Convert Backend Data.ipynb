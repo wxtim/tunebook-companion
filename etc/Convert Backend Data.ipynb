{
 "cells": [
  {
   "cell_type": "code",
   "execution_count": 8,
   "id": "47e6dfcc",
   "metadata": {},
   "outputs": [],
   "source": [
    "with open('test.csv', 'r') as handle:\n",
    "    data = handle.readlines()"
   ]
  },
  {
   "cell_type": "code",
   "execution_count": 17,
   "id": "e881fca9",
   "metadata": {},
   "outputs": [],
   "source": [
    "d2 = {}\n",
    "for line in data[1:-1]:\n",
    "    line = line.strip()\n",
    "    line = line.split(',')\n",
    "    page = line[-1]\n",
    "    edition = line[-2]\n",
    "    book = line[-3]\n",
    "    title = ', '.join(line[:-3])\n",
    "    \n",
    "    \n",
    "    if book not in d2:\n",
    "        d2[book] = {}\n",
    "    if edition not in d2[book]:\n",
    "        d2[book][edition] = {}\n",
    "    d2[book][edition][title] = page\n",
    "        "
   ]
  },
  {
   "cell_type": "code",
   "execution_count": 20,
   "id": "c429592e",
   "metadata": {},
   "outputs": [],
   "source": [
    "import json\n",
    "\n",
    "JSON = json.dumps(d2)"
   ]
  },
  {
   "cell_type": "code",
   "execution_count": 21,
   "id": "24e8f8e2",
   "metadata": {},
   "outputs": [],
   "source": [
    "with open('output', 'w') as handle:\n",
    "    handle.write(JSON)"
   ]
  },
  {
   "cell_type": "code",
   "execution_count": null,
   "id": "49e8b72d",
   "metadata": {},
   "outputs": [],
   "source": []
  }
 ],
 "metadata": {
  "kernelspec": {
   "display_name": "Python 3 (ipykernel)",
   "language": "python",
   "name": "python3"
  },
  "language_info": {
   "codemirror_mode": {
    "name": "ipython",
    "version": 3
   },
   "file_extension": ".py",
   "mimetype": "text/x-python",
   "name": "python",
   "nbconvert_exporter": "python",
   "pygments_lexer": "ipython3",
   "version": "3.10.2"
  }
 },
 "nbformat": 4,
 "nbformat_minor": 5
}
